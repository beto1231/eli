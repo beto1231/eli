{
  "metadata": {
    "language_info": {
      "codemirror_mode": {
        "name": "python",
        "version": 3
      },
      "file_extension": ".py",
      "mimetype": "text/x-python",
      "name": "python",
      "nbconvert_exporter": "python",
      "pygments_lexer": "ipython3",
      "version": "3.8"
    },
    "kernelspec": {
      "name": "python",
      "display_name": "Pyolite",
      "language": "python"
    }
  },
  "nbformat_minor": 4,
  "nbformat": 4,
  "cells": [
    {
      "cell_type": "markdown",
      "source": "### Infinity universe",
      "metadata": {}
    },
    {
      "cell_type": "markdown",
      "source": "### Un conjunto de datos es una colección estructurada de datos. Los datos incorporan información representada como texto, números o medios como imágenes, archivos de audio o video.",
      "metadata": {}
    },
    {
      "cell_type": "markdown",
      "source": "# *Objetivos:*\n### Lista populas de lenguajes de programacion\n1. sql\n2. c++\n3. python\n4. java\n          \n",
      "metadata": {}
    },
    {
      "cell_type": "markdown",
      "source": "### Some of the commonly used libraries used by Data Scientists include:\n 1. sql\n 2. java\n 3. c++\n 4. c\n 5. phyton\n 6. R",
      "metadata": {}
    },
    {
      "cell_type": "markdown",
      "source": "### Some of the commonly used libraries used by Data Scientists include:\n1. Scikit-learn \n2. TensorFlow\n3. Apache Spark\n4. Spark\n5. Pandas\n6. Numpy ",
      "metadata": {}
    },
    {
      "cell_type": "markdown",
      "source": "| Data Science Tools |\n|  ----------------------  |\n| 1. MySQL |\n| 2. PostgreSQL |\n| 3. Apache AirFlow |\n| 4. KubeFlow |",
      "metadata": {}
    },
    {
      "cell_type": "code",
      "source": "",
      "metadata": {},
      "execution_count": null,
      "outputs": []
    },
    {
      "cell_type": "code",
      "source": "# Esta es una simple operacion matematicas \n(3*4)+5",
      "metadata": {
        "trusted": true
      },
      "execution_count": 36,
      "outputs": [
        {
          "execution_count": 36,
          "output_type": "execute_result",
          "data": {
            "text/plain": "17"
          },
          "metadata": {}
        }
      ]
    },
    {
      "cell_type": "code",
      "source": "## This will convert 200 minutes to hours by diving by 60\n\n200/60\n\n",
      "metadata": {
        "trusted": true
      },
      "execution_count": 37,
      "outputs": [
        {
          "execution_count": 37,
          "output_type": "execute_result",
          "data": {
            "text/plain": "3.3333333333333335"
          },
          "metadata": {}
        }
      ]
    },
    {
      "cell_type": "markdown",
      "source": "## Autor.- Alberto Magno Cabadiana",
      "metadata": {}
    },
    {
      "cell_type": "code",
      "source": "",
      "metadata": {},
      "execution_count": null,
      "outputs": []
    }
  ]
}